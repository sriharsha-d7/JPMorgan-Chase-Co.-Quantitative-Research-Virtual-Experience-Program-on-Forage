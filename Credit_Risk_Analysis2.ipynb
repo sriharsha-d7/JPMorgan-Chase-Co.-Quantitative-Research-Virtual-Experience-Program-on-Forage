{
  "nbformat": 4,
  "nbformat_minor": 0,
  "metadata": {
    "colab": {
      "provenance": []
    },
    "kernelspec": {
      "name": "python3",
      "display_name": "Python 3"
    },
    "language_info": {
      "name": "python"
    }
  },
  "cells": [
    {
      "cell_type": "code",
      "execution_count": 1,
      "metadata": {
        "colab": {
          "base_uri": "https://localhost:8080/"
        },
        "id": "3r_K3Y_yVhQK",
        "outputId": "caa38302-bb65-4355-9178-3b2d2513c178"
      },
      "outputs": [
        {
          "output_type": "stream",
          "name": "stdout",
          "text": [
            "Bucket Boundaries (FICO ranges):\n",
            "Rating 9: FICO 408.00 to 560.00\n",
            "Rating 8: FICO 560.00 to 587.00\n",
            "Rating 7: FICO 587.00 to 607.00\n",
            "Rating 6: FICO 607.00 to 623.00\n",
            "Rating 5: FICO 623.00 to 638.00\n",
            "Rating 4: FICO 638.00 to 653.00\n",
            "Rating 3: FICO 653.00 to 670.00\n",
            "Rating 2: FICO 670.00 to 688.00\n",
            "Rating 1: FICO 688.00 to 714.00\n",
            "Rating 0: FICO 714.00 to 850.00\n",
            "\n",
            "Sample of the rating map:\n",
            "   fico_score  default  bucket  rating\n",
            "0         605        0       2       7\n",
            "1         572        1       1       8\n",
            "2         602        0       2       7\n",
            "3         612        0       3       6\n",
            "4         631        0       4       5\n",
            "5         697        0       8       1\n",
            "6         722        0       9       0\n",
            "7         545        1       0       9\n",
            "8         676        0       7       2\n",
            "9         447        0       0       9\n",
            "\n",
            "Average default rate by rating:\n",
            "rating\n",
            "0    0.040273\n",
            "1    0.070672\n",
            "2    0.096683\n",
            "3    0.105404\n",
            "4    0.127311\n",
            "5    0.172438\n",
            "6    0.180895\n",
            "7    0.246199\n",
            "8    0.297843\n",
            "9    0.429086\n",
            "Name: default, dtype: float64\n"
          ]
        }
      ],
      "source": [
        "import pandas as pd\n",
        "import numpy as np\n",
        "\n",
        "# Step 1: Load the dataset\n",
        "file_path = 'Task 3 and 4_Loan_Data.csv'\n",
        "loan_data = pd.read_csv(file_path)\n",
        "\n",
        "# Step 2: Focus on needed columns\n",
        "fico_data = loan_data[['fico_score', 'default']].copy()\n",
        "\n",
        "# Step 3: Number of buckets\n",
        "n_buckets = 10\n",
        "\n",
        "# Step 4: Quantile Buckets\n",
        "# pd.qcut will divide the fico_score into equal-sized groups\n",
        "fico_data['bucket'], bin_edges = pd.qcut(fico_data['fico_score'], q=n_buckets, retbins=True, labels=False, duplicates='drop')\n",
        "\n",
        "# Step 5: Rating\n",
        "# Lower Rating => Better credit score\n",
        "fico_data['rating'] = n_buckets - fico_data['bucket'] - 1\n",
        "\n",
        "# Step 6: Generated bucket boundaries and sample data\n",
        "print(\"Bucket Boundaries (FICO ranges):\")\n",
        "for i in range(len(bin_edges)-1):\n",
        "    print(f\"Rating {n_buckets - i - 1}: FICO {bin_edges[i]:.2f} to {bin_edges[i+1]:.2f}\")\n",
        "\n",
        "print(\"\\nSample of the rating map:\")\n",
        "print(fico_data.head(10))\n",
        "\n",
        "# Step 7: Merge full data with new rating\n",
        "loan_data = loan_data.merge(fico_data[['fico_score', 'rating']], on='fico_score')\n",
        "\n",
        "# Step 8: Optional — Check average default rate by rating\n",
        "rating_default_summary = loan_data.groupby('rating')['default'].mean().sort_index()\n",
        "print(\"\\nAverage default rate by rating:\")\n",
        "print(rating_default_summary)\n"
      ]
    }
  ]
}